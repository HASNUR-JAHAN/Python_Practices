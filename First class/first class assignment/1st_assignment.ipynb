{
  "nbformat": 4,
  "nbformat_minor": 0,
  "metadata": {
    "colab": {
      "name": "1st assignment.ipynb",
      "provenance": [],
      "collapsed_sections": []
    },
    "kernelspec": {
      "name": "python3",
      "display_name": "Python 3"
    },
    "language_info": {
      "name": "python"
    }
  },
  "cells": [
    {
      "cell_type": "markdown",
      "metadata": {
        "id": "MeO9jXiUMiR3"
      },
      "source": [
        "1. Given two integer numbers return their product. If the product is greater than 1000, then return their sum."
      ]
    },
    {
      "cell_type": "code",
      "metadata": {
        "colab": {
          "base_uri": "https://localhost:8080/"
        },
        "id": "j4yOFVEGMsNW",
        "outputId": "de0ca58d-1ca6-40bc-dd39-e46fab8027c6"
      },
      "source": [
        "num_1 = 1000\n",
        "num_2 = 500\n",
        "product = 1100\n",
        "if (product > 1000):\n",
        "    print('Sum of those integer = ', num_1+num_2)\n",
        "else:\n",
        "    print('Their product is = ', product)"
      ],
      "execution_count": 1,
      "outputs": [
        {
          "output_type": "stream",
          "name": "stdout",
          "text": [
            "Sum of those integer =  1500\n"
          ]
        }
      ]
    },
    {
      "cell_type": "markdown",
      "metadata": {
        "id": "Qt777NckMlBm"
      },
      "source": [
        "2. Given a range of the first 10 numbers, Iterate from the start number to the end number, and In each iteration\n",
        " print the sum of the current number and previous number"
      ]
    },
    {
      "cell_type": "code",
      "metadata": {
        "colab": {
          "base_uri": "https://localhost:8080/"
        },
        "id": "3Nn3MO7bNPH4",
        "outputId": "aeb88551-079f-4380-cf5b-4d72b571d3f7"
      },
      "source": [
        "sum = 0\n",
        "for i in range(10):\n",
        "    print(i)\n",
        "    sum = sum + i\n",
        "    print('Sum of the current number and previous number is = ', sum)"
      ],
      "execution_count": 13,
      "outputs": [
        {
          "output_type": "stream",
          "name": "stdout",
          "text": [
            "0\n",
            "Sum of the current number and previous number is =  0\n",
            "1\n",
            "Sum of the current number and previous number is =  1\n",
            "2\n",
            "Sum of the current number and previous number is =  3\n",
            "3\n",
            "Sum of the current number and previous number is =  6\n",
            "4\n",
            "Sum of the current number and previous number is =  10\n",
            "5\n",
            "Sum of the current number and previous number is =  15\n",
            "6\n",
            "Sum of the current number and previous number is =  21\n",
            "7\n",
            "Sum of the current number and previous number is =  28\n",
            "8\n",
            "Sum of the current number and previous number is =  36\n",
            "9\n",
            "Sum of the current number and previous number is =  45\n"
          ]
        }
      ]
    },
    {
      "cell_type": "markdown",
      "metadata": {
        "id": "057zhrrqMp2D"
      },
      "source": [
        "3. Print First 10 natural numbers using while loop."
      ]
    },
    {
      "cell_type": "code",
      "metadata": {
        "colab": {
          "base_uri": "https://localhost:8080/"
        },
        "id": "MNvqiPPlRJMM",
        "outputId": "a3270b92-a43b-441b-cfe9-c2b2460f3310"
      },
      "source": [
        "i = 1\n",
        "n = 10\n",
        "while(i <= n):\n",
        "    print(i)\n",
        "    i = i+1"
      ],
      "execution_count": 14,
      "outputs": [
        {
          "output_type": "stream",
          "name": "stdout",
          "text": [
            "1\n",
            "2\n",
            "3\n",
            "4\n",
            "5\n",
            "6\n",
            "7\n",
            "8\n",
            "9\n",
            "10\n"
          ]
        }
      ]
    },
    {
      "cell_type": "markdown",
      "metadata": {
        "id": "qA6t4v0AMMLX"
      },
      "source": [
        "4. Accept number from user and calculate the sum of all number from 1 to a given number"
      ]
    },
    {
      "cell_type": "code",
      "metadata": {
        "colab": {
          "base_uri": "https://localhost:8080/"
        },
        "id": "guAPVYRSRLWG",
        "outputId": "9f82f2c7-809a-4f67-caa9-614c06be9bb3"
      },
      "source": [
        "input_number = int(input('Enter an intiger Number = '))\n",
        "i = 1\n",
        "sum = 0\n",
        "for i in range(input_number):\n",
        "    sum = sum + i\n",
        "\n",
        "print('The sum of all number from 1 to your given number = ', sum)"
      ],
      "execution_count": 5,
      "outputs": [
        {
          "output_type": "stream",
          "name": "stdout",
          "text": [
            "Enter an intiger Number = 8\n",
            "The sum of all number from 1 to your given number =  28\n"
          ]
        }
      ]
    },
    {
      "cell_type": "markdown",
      "metadata": {
        "id": "XCvUfrsYMPCh"
      },
      "source": [
        "5. Given a list, iterate it, and display numbers divisible by five, and if you find a number greater than 150, stop the loop iteration."
      ]
    },
    {
      "cell_type": "code",
      "metadata": {
        "colab": {
          "base_uri": "https://localhost:8080/"
        },
        "id": "WMcu94stRasu",
        "outputId": "abdd4f39-c40d-4387-a374-ef5bee5f4f47"
      },
      "source": [
        "list_num = [20, 33, 40, 54, 60, 70, 82, 88, 90, 122, 130, 142, 155]\n",
        "for i in list_num:\n",
        "    if i < 150:\n",
        "        if (i % 5 == 0):\n",
        "            print(i,'is divided by 5')\n",
        "    else:\n",
        "        print('Oh no this is gatter then 150')\n",
        "        break"
      ],
      "execution_count": 16,
      "outputs": [
        {
          "output_type": "stream",
          "name": "stdout",
          "text": [
            "20 is divided by 5\n",
            "40 is divided by 5\n",
            "60 is divided by 5\n",
            "70 is divided by 5\n",
            "90 is divided by 5\n",
            "130 is divided by 5\n",
            "Oh no this is gatter then 150\n"
          ]
        }
      ]
    },
    {
      "cell_type": "markdown",
      "metadata": {
        "id": "qmVmdF5AMPF_"
      },
      "source": [
        "6. Reverse the following list using for loop"
      ]
    },
    {
      "cell_type": "code",
      "metadata": {
        "colab": {
          "base_uri": "https://localhost:8080/"
        },
        "id": "lSylx2jMRv7_",
        "outputId": "85e614e7-90a9-4f3a-b405-f7fd63ae552a"
      },
      "source": [
        "for i in reversed(list_num):\n",
        "    print(i)"
      ],
      "execution_count": 7,
      "outputs": [
        {
          "output_type": "stream",
          "name": "stdout",
          "text": [
            "155\n",
            "142\n",
            "130\n",
            "122\n",
            "90\n",
            "88\n",
            "82\n",
            "70\n",
            "60\n",
            "54\n",
            "40\n",
            "33\n",
            "20\n"
          ]
        }
      ]
    },
    {
      "cell_type": "markdown",
      "metadata": {
        "id": "D6lJ2XIfMXzC"
      },
      "source": [
        "7. Display “My Name Is James” as “My**Name**Is**James” using output formatting of a print() function\n",
        "For example: print('My', 'Name', 'Is', 'Tamim') will display MyNameIsJames\n",
        "\n",
        "So use one of the formatting argument of print() to turn the output into My**Name**Is**Tamim"
      ]
    },
    {
      "cell_type": "code",
      "metadata": {
        "colab": {
          "base_uri": "https://localhost:8080/"
        },
        "id": "ifcBRsERRxfJ",
        "outputId": "e962d536-6b46-4b6e-9f55-f2109c439f8c"
      },
      "source": [
        "# Sample\n",
        "print('My', 'Name', 'Is', 'Tamim')\n",
        "# solution\n",
        "arg = '**'\n",
        "print('My'+arg+'Name'+arg+'Is'+arg+'James')\n"
      ],
      "execution_count": 8,
      "outputs": [
        {
          "output_type": "stream",
          "name": "stdout",
          "text": [
            "My Name Is Tamim\n",
            "My**Name**Is**James\n"
          ]
        }
      ]
    },
    {
      "cell_type": "markdown",
      "metadata": {
        "id": "fHGeIaXSMbCY"
      },
      "source": [
        "8. Concatenate two lists index-wise"
      ]
    },
    {
      "cell_type": "code",
      "metadata": {
        "colab": {
          "base_uri": "https://localhost:8080/"
        },
        "id": "McDGdBKkRyPG",
        "outputId": "65453038-10b1-4110-c4a6-181f46745194"
      },
      "source": [
        "list_1 = ['anu:', 'hasnur:']\n",
        "list_2 = ['ariyan', 'mithu']\n",
        "list_3 = [i + j for i, j in zip(list_1, list_2)]\n",
        "\n",
        "print(list_3)"
      ],
      "execution_count": 17,
      "outputs": [
        {
          "output_type": "stream",
          "name": "stdout",
          "text": [
            "['anu:ariyan', 'hasnur:mithu']\n"
          ]
        }
      ]
    },
    {
      "cell_type": "markdown",
      "metadata": {
        "id": "FGTfnCiCMdVr"
      },
      "source": [
        "9. Given a Python list of numbers. Turn every item of a list into its square"
      ]
    },
    {
      "cell_type": "code",
      "metadata": {
        "colab": {
          "base_uri": "https://localhost:8080/"
        },
        "id": "bEHdxKIGRzsx",
        "outputId": "dcb39587-ff52-4470-a907-d8702a130acd"
      },
      "source": [
        "list_number = [10, 20, 25, 40, 15, 18, 30]\n",
        "for i in list_number:\n",
        "    list_number = i**2\n",
        "    print(list_number)"
      ],
      "execution_count": 10,
      "outputs": [
        {
          "output_type": "stream",
          "name": "stdout",
          "text": [
            "100\n",
            "400\n",
            "625\n",
            "1600\n",
            "225\n",
            "324\n",
            "900\n"
          ]
        }
      ]
    },
    {
      "cell_type": "markdown",
      "metadata": {
        "id": "KxpROPitMfQ7"
      },
      "source": [
        "10. Access value 20 from the following tuple -> aTuple = (\"Orange\", [10, 20, 30], (5, 15, 25))"
      ]
    },
    {
      "cell_type": "code",
      "metadata": {
        "colab": {
          "base_uri": "https://localhost:8080/"
        },
        "id": "lZD8xR5vR0P9",
        "outputId": "d0bb3e01-fbae-4d82-ed74-dac037423266"
      },
      "source": [
        "a_tuple = (\"Orange\", [10, 20, 30], (5, 15, 25))\n",
        "# Access value 20\n",
        "print(a_tuple[1][1])"
      ],
      "execution_count": 11,
      "outputs": [
        {
          "output_type": "stream",
          "name": "stdout",
          "text": [
            "20\n"
          ]
        }
      ]
    }
  ]
}